{
 "cells": [
  {
   "cell_type": "markdown",
   "metadata": {
    "collapsed": true,
    "pycharm": {
     "name": "#%% md\n"
    }
   },
   "source": [
    "# import all packages"
   ]
  },
  {
   "cell_type": "code",
   "execution_count": 66,
   "outputs": [],
   "source": [
    "import pandas as pd\n",
    "import matplotlib.pyplot as plt\n",
    "import numpy as np"
   ],
   "metadata": {
    "collapsed": false,
    "pycharm": {
     "name": "#%%\n"
    }
   }
  },
  {
   "cell_type": "code",
   "execution_count": 53,
   "outputs": [
    {
     "data": {
      "text/plain": "(132, 13)"
     },
     "metadata": {},
     "output_type": "display_data"
    },
    {
     "data": {
      "text/plain": "   PassengerId  Survived  Pclass  \\\n0            1         1       1   \n1            2         0       3   \n2            3         0       3   \n3            4         1       3   \n4            5         1       1   \n\n                                                Name     Sex  FootSize   Age  \\\n0  Rothes, the Countess. of (Lucy Noel Martha Dye...  female      34.0  33.0   \n1                                 Garfirth, Mr. John    male       NaN   NaN   \n2                     Nirva, Mr. Iisakki Antino Aijo    male       NaN  41.0   \n3                              Barah, Mr. Hanna Assi    male       NaN  20.0   \n4          Carter, Mrs. William Ernest (Lucile Polk)  female       NaN  36.0   \n\n   SibSp  Parch            Ticket       Fare    Cabin Embarked  \n0      0      0            110152    86.5000      B77        S  \n1      0      0            358585    14.5000      NaN        S  \n2      0      0  SOTON/O2 3101272  7125.0000      NaN        S  \n3      0      0              2663     7.2292      NaN        C  \n4      1      2            113760   120.0000  B96 B98        S  ",
      "text/html": "<div>\n<style scoped>\n    .dataframe tbody tr th:only-of-type {\n        vertical-align: middle;\n    }\n\n    .dataframe tbody tr th {\n        vertical-align: top;\n    }\n\n    .dataframe thead th {\n        text-align: right;\n    }\n</style>\n<table border=\"1\" class=\"dataframe\">\n  <thead>\n    <tr style=\"text-align: right;\">\n      <th></th>\n      <th>PassengerId</th>\n      <th>Survived</th>\n      <th>Pclass</th>\n      <th>Name</th>\n      <th>Sex</th>\n      <th>FootSize</th>\n      <th>Age</th>\n      <th>SibSp</th>\n      <th>Parch</th>\n      <th>Ticket</th>\n      <th>Fare</th>\n      <th>Cabin</th>\n      <th>Embarked</th>\n    </tr>\n  </thead>\n  <tbody>\n    <tr>\n      <th>0</th>\n      <td>1</td>\n      <td>1</td>\n      <td>1</td>\n      <td>Rothes, the Countess. of (Lucy Noel Martha Dye...</td>\n      <td>female</td>\n      <td>34.0</td>\n      <td>33.0</td>\n      <td>0</td>\n      <td>0</td>\n      <td>110152</td>\n      <td>86.5000</td>\n      <td>B77</td>\n      <td>S</td>\n    </tr>\n    <tr>\n      <th>1</th>\n      <td>2</td>\n      <td>0</td>\n      <td>3</td>\n      <td>Garfirth, Mr. John</td>\n      <td>male</td>\n      <td>NaN</td>\n      <td>NaN</td>\n      <td>0</td>\n      <td>0</td>\n      <td>358585</td>\n      <td>14.5000</td>\n      <td>NaN</td>\n      <td>S</td>\n    </tr>\n    <tr>\n      <th>2</th>\n      <td>3</td>\n      <td>0</td>\n      <td>3</td>\n      <td>Nirva, Mr. Iisakki Antino Aijo</td>\n      <td>male</td>\n      <td>NaN</td>\n      <td>41.0</td>\n      <td>0</td>\n      <td>0</td>\n      <td>SOTON/O2 3101272</td>\n      <td>7125.0000</td>\n      <td>NaN</td>\n      <td>S</td>\n    </tr>\n    <tr>\n      <th>3</th>\n      <td>4</td>\n      <td>1</td>\n      <td>3</td>\n      <td>Barah, Mr. Hanna Assi</td>\n      <td>male</td>\n      <td>NaN</td>\n      <td>20.0</td>\n      <td>0</td>\n      <td>0</td>\n      <td>2663</td>\n      <td>7.2292</td>\n      <td>NaN</td>\n      <td>C</td>\n    </tr>\n    <tr>\n      <th>4</th>\n      <td>5</td>\n      <td>1</td>\n      <td>1</td>\n      <td>Carter, Mrs. William Ernest (Lucile Polk)</td>\n      <td>female</td>\n      <td>NaN</td>\n      <td>36.0</td>\n      <td>1</td>\n      <td>2</td>\n      <td>113760</td>\n      <td>120.0000</td>\n      <td>B96 B98</td>\n      <td>S</td>\n    </tr>\n  </tbody>\n</table>\n</div>"
     },
     "metadata": {},
     "output_type": "display_data"
    },
    {
     "name": "stdout",
     "output_type": "stream",
     "text": [
      "<class 'pandas.core.frame.DataFrame'>\n",
      "RangeIndex: 132 entries, 0 to 131\n",
      "Data columns (total 13 columns):\n",
      " #   Column       Non-Null Count  Dtype  \n",
      "---  ------       --------------  -----  \n",
      " 0   PassengerId  132 non-null    int64  \n",
      " 1   Survived     132 non-null    int64  \n",
      " 2   Pclass       132 non-null    int64  \n",
      " 3   Name         132 non-null    object \n",
      " 4   Sex          132 non-null    object \n",
      " 5   FootSize     6 non-null      float64\n",
      " 6   Age          108 non-null    float64\n",
      " 7   SibSp        132 non-null    int64  \n",
      " 8   Parch        132 non-null    int64  \n",
      " 9   Ticket       132 non-null    object \n",
      " 10  Fare         132 non-null    float64\n",
      " 11  Cabin        29 non-null     object \n",
      " 12  Embarked     131 non-null    object \n",
      "dtypes: float64(3), int64(5), object(5)\n",
      "memory usage: 13.5+ KB\n"
     ]
    },
    {
     "data": {
      "text/plain": "None"
     },
     "metadata": {},
     "output_type": "display_data"
    },
    {
     "data": {
      "text/plain": "       PassengerId    Survived      Pclass   FootSize         Age       SibSp  \\\ncount   132.000000  132.000000  132.000000   6.000000  108.000000  132.000000   \nmean     66.500000    0.356061    2.363636  27.500000   28.590278    0.537879   \nstd      38.249183    0.480658    0.840508  12.308534   14.393335    1.400138   \nmin       1.000000    0.000000    1.000000  12.000000    0.420000    0.000000   \n25%      33.750000    0.000000    2.000000  18.250000   18.750000    0.000000   \n50%      66.500000    0.000000    3.000000  29.000000   28.000000    0.000000   \n75%      99.250000    1.000000    3.000000  33.750000   39.000000    1.000000   \nmax     132.000000    1.000000    3.000000  45.000000   74.000000    8.000000   \n\n            Parch          Fare  \ncount  132.000000    132.000000  \nmean     0.416667   1856.376009  \nstd      0.819995   5863.540945  \nmin      0.000000      0.000000  \n25%      0.000000      8.011450  \n50%      0.000000     19.004150  \n75%      1.000000     56.621850  \nmax      5.000000  31275.000000  ",
      "text/html": "<div>\n<style scoped>\n    .dataframe tbody tr th:only-of-type {\n        vertical-align: middle;\n    }\n\n    .dataframe tbody tr th {\n        vertical-align: top;\n    }\n\n    .dataframe thead th {\n        text-align: right;\n    }\n</style>\n<table border=\"1\" class=\"dataframe\">\n  <thead>\n    <tr style=\"text-align: right;\">\n      <th></th>\n      <th>PassengerId</th>\n      <th>Survived</th>\n      <th>Pclass</th>\n      <th>FootSize</th>\n      <th>Age</th>\n      <th>SibSp</th>\n      <th>Parch</th>\n      <th>Fare</th>\n    </tr>\n  </thead>\n  <tbody>\n    <tr>\n      <th>count</th>\n      <td>132.000000</td>\n      <td>132.000000</td>\n      <td>132.000000</td>\n      <td>6.000000</td>\n      <td>108.000000</td>\n      <td>132.000000</td>\n      <td>132.000000</td>\n      <td>132.000000</td>\n    </tr>\n    <tr>\n      <th>mean</th>\n      <td>66.500000</td>\n      <td>0.356061</td>\n      <td>2.363636</td>\n      <td>27.500000</td>\n      <td>28.590278</td>\n      <td>0.537879</td>\n      <td>0.416667</td>\n      <td>1856.376009</td>\n    </tr>\n    <tr>\n      <th>std</th>\n      <td>38.249183</td>\n      <td>0.480658</td>\n      <td>0.840508</td>\n      <td>12.308534</td>\n      <td>14.393335</td>\n      <td>1.400138</td>\n      <td>0.819995</td>\n      <td>5863.540945</td>\n    </tr>\n    <tr>\n      <th>min</th>\n      <td>1.000000</td>\n      <td>0.000000</td>\n      <td>1.000000</td>\n      <td>12.000000</td>\n      <td>0.420000</td>\n      <td>0.000000</td>\n      <td>0.000000</td>\n      <td>0.000000</td>\n    </tr>\n    <tr>\n      <th>25%</th>\n      <td>33.750000</td>\n      <td>0.000000</td>\n      <td>2.000000</td>\n      <td>18.250000</td>\n      <td>18.750000</td>\n      <td>0.000000</td>\n      <td>0.000000</td>\n      <td>8.011450</td>\n    </tr>\n    <tr>\n      <th>50%</th>\n      <td>66.500000</td>\n      <td>0.000000</td>\n      <td>3.000000</td>\n      <td>29.000000</td>\n      <td>28.000000</td>\n      <td>0.000000</td>\n      <td>0.000000</td>\n      <td>19.004150</td>\n    </tr>\n    <tr>\n      <th>75%</th>\n      <td>99.250000</td>\n      <td>1.000000</td>\n      <td>3.000000</td>\n      <td>33.750000</td>\n      <td>39.000000</td>\n      <td>1.000000</td>\n      <td>1.000000</td>\n      <td>56.621850</td>\n    </tr>\n    <tr>\n      <th>max</th>\n      <td>132.000000</td>\n      <td>1.000000</td>\n      <td>3.000000</td>\n      <td>45.000000</td>\n      <td>74.000000</td>\n      <td>8.000000</td>\n      <td>5.000000</td>\n      <td>31275.000000</td>\n    </tr>\n  </tbody>\n</table>\n</div>"
     },
     "metadata": {},
     "output_type": "display_data"
    },
    {
     "data": {
      "text/plain": "PassengerId    132\nSurvived         2\nPclass           3\nName           132\nSex              2\nFootSize         6\nAge             54\nSibSp            6\nParch            5\nTicket         123\nFare            80\nCabin           27\nEmbarked         3\ndtype: int64"
     },
     "metadata": {},
     "output_type": "display_data"
    }
   ],
   "source": [
    "# read data\n",
    "data = pd.read_csv('titanic.csv', sep=';')\n",
    "display(data.shape)\n",
    "display(data.head())\n",
    "display(data.info())\n",
    "display(data.describe())\n",
    "display(data.nunique())"
   ],
   "metadata": {
    "collapsed": false,
    "pycharm": {
     "name": "#%%\n"
    }
   }
  },
  {
   "cell_type": "markdown",
   "source": [
    "# How many is there missing values?"
   ],
   "metadata": {
    "collapsed": false,
    "pycharm": {
     "name": "#%% md\n"
    }
   }
  },
  {
   "cell_type": "code",
   "execution_count": 54,
   "outputs": [
    {
     "data": {
      "text/plain": "PassengerId      0\nSurvived         0\nPclass           0\nName             0\nSex              0\nFootSize       126\nAge             24\nSibSp            0\nParch            0\nTicket           0\nFare             0\nCabin          103\nEmbarked         1\ndtype: int64"
     },
     "execution_count": 54,
     "metadata": {},
     "output_type": "execute_result"
    }
   ],
   "source": [
    "data.isnull().sum(axis=0)"
   ],
   "metadata": {
    "collapsed": false,
    "pycharm": {
     "name": "#%%\n"
    }
   }
  },
  {
   "cell_type": "code",
   "execution_count": 55,
   "outputs": [
    {
     "data": {
      "text/plain": "PassengerId    0\nSurvived       0\nPclass         0\nName           0\nSex            0\nAge            0\nSibSp          0\nParch          0\nTicket         0\nFare           0\nEmbarked       0\ndtype: int64"
     },
     "execution_count": 55,
     "metadata": {},
     "output_type": "execute_result"
    }
   ],
   "source": [
    "data.drop(['FootSize','Cabin'], axis=1,inplace=True)\n",
    "data.fillna(0,inplace=True)\n",
    "data.isnull().sum(axis=0)"
   ],
   "metadata": {
    "collapsed": false,
    "pycharm": {
     "name": "#%%\n"
    }
   }
  },
  {
   "cell_type": "code",
   "execution_count": 55,
   "outputs": [],
   "source": [],
   "metadata": {
    "collapsed": false,
    "pycharm": {
     "name": "#%%\n"
    }
   }
  },
  {
   "cell_type": "markdown",
   "source": [
    "# Dealing with the strings"
   ],
   "metadata": {
    "collapsed": false
   }
  },
  {
   "cell_type": "code",
   "execution_count": 56,
   "outputs": [],
   "source": [
    "strings_cols = data.select_dtypes(['object']).columns\n",
    "data[strings_cols]=data[strings_cols].astype('category').apply(lambda x:x.cat.codes)"
   ],
   "metadata": {
    "collapsed": false,
    "pycharm": {
     "name": "#%%\n"
    }
   }
  },
  {
   "cell_type": "markdown",
   "source": [
    "# Dealing with the separate data into train, validation,test."
   ],
   "metadata": {
    "collapsed": false
   }
  },
  {
   "cell_type": "code",
   "execution_count": 57,
   "outputs": [
    {
     "data": {
      "text/plain": "(74, 9)"
     },
     "metadata": {},
     "output_type": "display_data"
    },
    {
     "data": {
      "text/plain": "(74,)"
     },
     "metadata": {},
     "output_type": "display_data"
    },
    {
     "data": {
      "text/plain": "(25, 9)"
     },
     "metadata": {},
     "output_type": "display_data"
    },
    {
     "data": {
      "text/plain": "(25,)"
     },
     "metadata": {},
     "output_type": "display_data"
    },
    {
     "data": {
      "text/plain": "(33, 9)"
     },
     "metadata": {},
     "output_type": "display_data"
    },
    {
     "data": {
      "text/plain": "(33,)"
     },
     "metadata": {},
     "output_type": "display_data"
    }
   ],
   "source": [
    "Ydata = data.iloc[:,1]\n",
    "Xdata = data.iloc[:,2:]\n",
    "\n",
    "rd_seed = 1234\n",
    "\n",
    "from sklearn.model_selection import train_test_split\n",
    "\n",
    "Xtrain,Xtest,Ytrain,Ytest = train_test_split(Xdata,Ydata,test_size=0.25, random_state=rd_seed)\n",
    "\n",
    "Xtrain,Xval,Ytrain,Yval = train_test_split(Xtrain,Ytrain,test_size=0.25, random_state=rd_seed)\n",
    "\n",
    "display(Xtrain.shape)\n",
    "display(Ytrain.shape)\n",
    "display(Xval.shape)\n",
    "display(Yval.shape)\n",
    "display(Xtest.shape)\n",
    "display(Ytest.shape)\n"
   ],
   "metadata": {
    "collapsed": false,
    "pycharm": {
     "name": "#%%\n"
    }
   }
  },
  {
   "cell_type": "markdown",
   "source": [
    "# Tree Classifier"
   ],
   "metadata": {
    "collapsed": false
   }
  },
  {
   "cell_type": "code",
   "execution_count": 58,
   "outputs": [],
   "source": [
    "from sklearn.tree import DecisionTreeClassifier"
   ],
   "metadata": {
    "collapsed": false,
    "pycharm": {
     "name": "#%%\n"
    }
   }
  },
  {
   "cell_type": "markdown",
   "source": [
    "# Tree Tunning"
   ],
   "metadata": {
    "collapsed": false
   }
  },
  {
   "cell_type": "code",
   "execution_count": 60,
   "outputs": [],
   "source": [
    "from sklearn.model_selection import ParameterGrid\n",
    "import sklearn.metrics as metrics\n",
    "param_grid = {\n",
    "    'max_depth': range(1,150),\n",
    "    'criterion': ['entropy', 'gini'],\n",
    "    'splitter': ['best', 'random']\n",
    "\n",
    "}\n",
    "\n",
    "param_comb = ParameterGrid(param_grid)\n",
    "\n",
    "val_acc = []\n",
    "train_acc = []\n",
    "for params in param_comb:\n",
    "    dt = DecisionTreeClassifier(max_depth=params['max_depth'], criterion=params['criterion']\n",
    "    ,splitter=params['splitter'])\n",
    "    dt.fit(Xtrain, Ytrain)\n",
    "    train_acc.append(metrics.accuracy_score(Ytrain, dt.predict(Xtrain)))\n",
    "    val_acc.append(metrics.accuracy_score(Yval, dt.predict(Xval)))"
   ],
   "metadata": {
    "collapsed": false,
    "pycharm": {
     "name": "#%%\n"
    }
   }
  },
  {
   "cell_type": "code",
   "execution_count": 59,
   "outputs": [],
   "source": [],
   "metadata": {
    "collapsed": false,
    "pycharm": {
     "name": "#%%\n"
    }
   }
  },
  {
   "cell_type": "code",
   "execution_count": 65,
   "outputs": [
    {
     "data": {
      "text/plain": "<matplotlib.legend.Legend at 0x7f43c8192f28>"
     },
     "execution_count": 65,
     "metadata": {},
     "output_type": "execute_result"
    },
    {
     "data": {
      "text/plain": "<Figure size 1440x432 with 1 Axes>",
      "image/png": "[encoded data removed]"
     },
     "metadata": {
      "needs_background": "light"
     },
     "output_type": "display_data"
    }
   ],
   "source": [
    "plt.figure(figsize=(20,6))\n",
    "plt.plot(train_acc,'or-')\n",
    "plt.plot(val_acc,'ob-')\n",
    "plt.xlabel('hyperparametr index')\n",
    "plt.ylabel('accuracy')\n",
    "plt.legend(['train', 'validation'])"
   ],
   "metadata": {
    "collapsed": false,
    "pycharm": {
     "name": "#%%\n"
    }
   }
  },
  {
   "cell_type": "code",
   "execution_count": 69,
   "outputs": [
    {
     "data": {
      "text/plain": "{'splitter': 'random', 'max_depth': 85, 'criterion': 'entropy'}"
     },
     "execution_count": 69,
     "metadata": {},
     "output_type": "execute_result"
    }
   ],
   "source": [
    "best_params = param_comb[np.argmax(val_acc)]\n",
    "best_params"
   ],
   "metadata": {
    "collapsed": false,
    "pycharm": {
     "name": "#%%\n"
    }
   }
  },
  {
   "cell_type": "code",
   "execution_count": null,
   "outputs": [],
   "source": [],
   "metadata": {
    "collapsed": false,
    "pycharm": {
     "name": "#%%\n"
    }
   }
  },
  {
   "cell_type": "code",
   "execution_count": 71,
   "outputs": [
    {
     "name": "stdout",
     "output_type": "stream",
     "text": [
      "accuracy score (train): 1.000000\n",
      "accuracy score (validation): 0.760000\n",
      "accuracy score (test): 0.757576\n"
     ]
    }
   ],
   "source": [
    "dt = DecisionTreeClassifier(**best_params) # TOHOTO ŘÁDKU si všimněte: dvě hvězdišky jsou mocný nástroj\n",
    "dt.fit(Xtrain, Ytrain)\n",
    "print('accuracy score (train): {0:.6f}'.format(metrics.accuracy_score(Ytrain, dt.predict(Xtrain))))\n",
    "print('accuracy score (validation): {0:.6f}'.format(metrics.accuracy_score(Yval, dt.predict(Xval))))\n",
    "print('accuracy score (test): {0:.6f}'.format(metrics.accuracy_score(Ytest, dt.predict(Xtest))))"
   ],
   "metadata": {
    "collapsed": false,
    "pycharm": {
     "name": "#%%\n"
    }
   }
  },
  {
   "cell_type": "code",
   "source": [
    "out = pd.DataFrame()\n",
    "out['PassengerId'] = data['PassengerId']\n",
    "out['Survived'] = dt.predict(Xdata)"
   ],
   "metadata": {
    "collapsed": false,
    "pycharm": {
     "name": "#%%\n"
    }
   },
   "execution_count": 87,
   "outputs": []
  },
  {
   "cell_type": "code",
   "execution_count": 88,
   "outputs": [],
   "source": [
    "out.to_csv('titanic_pred.csv', index=False)"
   ],
   "metadata": {
    "collapsed": false,
    "pycharm": {
     "name": "#%%\n"
    }
   }
  }
 ],
 "metadata": {
  "kernelspec": {
   "display_name": "Python 3",
   "language": "python",
   "name": "python3"
  },
  "language_info": {
   "codemirror_mode": {
    "name": "ipython",
    "version": 2
   },
   "file_extension": ".py",
   "mimetype": "text/x-python",
   "name": "python",
   "nbconvert_exporter": "python",
   "pygments_lexer": "ipython2",
   "version": "2.7.6"
  }
 },
 "nbformat": 4,
 "nbformat_minor": 0
}